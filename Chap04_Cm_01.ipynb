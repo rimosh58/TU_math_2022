{
  "nbformat": 4,
  "nbformat_minor": 0,
  "metadata": {
    "colab": {
      "name": "Chap04_Cm-01.ipynb",
      "provenance": [],
      "collapsed_sections": [],
      "authorship_tag": "ABX9TyPpFH/DRJdrdc2ZIeX2Ocsx",
      "include_colab_link": true
    },
    "kernelspec": {
      "name": "python3",
      "display_name": "Python 3"
    },
    "language_info": {
      "name": "python"
    }
  },
  "cells": [
    {
      "cell_type": "markdown",
      "metadata": {
        "id": "view-in-github",
        "colab_type": "text"
      },
      "source": [
        "<a href=\"https://colab.research.google.com/github/rimosh58/TU_math_2022/blob/main/Chap04_Cm_01.ipynb\" target=\"_parent\"><img src=\"https://colab.research.google.com/assets/colab-badge.svg\" alt=\"Open In Colab\"/></a>"
      ]
    },
    {
      "cell_type": "code",
      "execution_count": 1,
      "metadata": {
        "colab": {
          "base_uri": "https://localhost:8080/",
          "height": 35
        },
        "id": "iQAnYp2kXzxk",
        "outputId": "5cacd0db-4f22-4d7a-fbc5-9dde8d1b5066"
      },
      "outputs": [
        {
          "output_type": "execute_result",
          "data": {
            "text/plain": [
              "'%.3f'"
            ],
            "application/vnd.google.colaboratory.intrinsic+json": {
              "type": "string"
            }
          },
          "metadata": {},
          "execution_count": 1
        }
      ],
      "source": [
        "import numpy as np\n",
        "import scipy as sp\n",
        "from scipy import stats\n",
        "import pandas as pd\n",
        "from pandas import Series, DataFrame\n",
        "\n",
        "import matplotlib.pyplot as plt\n",
        "import matplotlib as mpl\n",
        "import seaborn as sns\n",
        "%matplotlib inline\n",
        "\n",
        "%precision 3"
      ]
    },
    {
      "cell_type": "code",
      "source": [
        "import requests\n",
        "import zipfile\n",
        "from io import StringIO\n",
        "import io\n",
        "\n",
        "zip_file_url = \"http://archive.ics.uci.edu/ml/machine-learning-databases/00356/student.zip\"\n",
        "\n",
        "r = requests.get(zip_file_url, stream = True)\n",
        "z = zipfile.ZipFile(io.BytesIO(r.content))\n",
        "z.extractall()\n",
        "\n",
        "student_data_math = pd.read_csv(\"student-mat.csv\", sep = \";\")"
      ],
      "metadata": {
        "id": "esnS1b-MX4NY"
      },
      "execution_count": 2,
      "outputs": []
    },
    {
      "cell_type": "code",
      "source": [
        "student_data_math = pd.read_csv(\"student-mat.csv\", sep = \";\")\n",
        "\n",
        "student_data_por = pd.read_csv(\"student-por.csv\", sep = \";\")\n",
        "\n",
        "student_data_merge = pd.merge(student_data_math\n",
        "                              , student_data_por\n",
        "                              , on = [\"school\", \"sex\", \"age\", \"address\", \"famsize\", \"Pstatus\", \"Medu\"\n",
        "                                      , \"Fedu\", \"Mjob\", \"Fjob\", \"reason\", \"nursery\", \"internet\"]\n",
        "                              , suffixes = (\"_math\", \"_por\"))"
      ],
      "metadata": {
        "id": "Qo0mfYZSYARv"
      },
      "execution_count": 3,
      "outputs": []
    },
    {
      "cell_type": "code",
      "source": [
        "# 4-1-1\n",
        "print(\"数学の欠席数平均：\", student_data_merge.absences_math.mean())\n",
        "print(\"ポルトガル語の欠席数平均：\", student_data_merge.absences_por.mean())\n",
        "t, p1 = stats.ttest_rel(student_data_merge.absences_math, student_data_merge.absences_por)\n",
        "print(\"p値 = \", p1)"
      ],
      "metadata": {
        "colab": {
          "base_uri": "https://localhost:8080/"
        },
        "id": "8-0J4RYJYAuf",
        "outputId": "7caa4736-5f1b-4008-8248-8d781bcb5570"
      },
      "execution_count": 17,
      "outputs": [
        {
          "output_type": "stream",
          "name": "stdout",
          "text": [
            "数学の欠席数平均： 5.319371727748691\n",
            "ポルトガル語の欠席数平均： 3.6727748691099475\n",
            "p値 =  2.3441656888384195e-06\n"
          ]
        }
      ]
    },
    {
      "cell_type": "markdown",
      "source": [
        "p値が0.05未満(p<0.05, 5%未満)を有意とみなす。<br>\n",
        "欠席数に関するp値は2.34e-06である。<br>\n",
        "したがって，p値が0.05未満なので， 差があると言える。"
      ],
      "metadata": {
        "id": "GEapKHnrTIFF"
      }
    },
    {
      "cell_type": "code",
      "source": [
        "# 4-1-2\n",
        "print(\"数学の欠席数平均：\", student_data_merge.studytime_math.mean())\n",
        "print(\"ポルトガル語の欠席数平均：\", student_data_merge.studytime_por.mean())\n",
        "t, p2 = stats.ttest_rel(student_data_merge.studytime_math, student_data_merge.studytime_por)\n",
        "print(\"p値 = \", p2)"
      ],
      "metadata": {
        "id": "050jPCdSYCYZ",
        "colab": {
          "base_uri": "https://localhost:8080/"
        },
        "outputId": "654964a1-f510-4baf-e174-ccda502334ff"
      },
      "execution_count": 18,
      "outputs": [
        {
          "output_type": "stream",
          "name": "stdout",
          "text": [
            "数学の欠席数平均： 2.0340314136125652\n",
            "ポルトガル語の欠席数平均： 2.0392670157068062\n",
            "p値 =  0.5643842756976525\n"
          ]
        }
      ]
    },
    {
      "cell_type": "markdown",
      "source": [
        "p値が0.05未満(p<0.05, 5%未満)を有意とみなす。<br>\n",
        "勉強時間に関するp値は0.56である。\n",
        "したがって，p値が0.05以上なので，差があるとは言えない。"
      ],
      "metadata": {
        "id": "NqUpGQ5UTaL9"
      }
    }
  ]
}