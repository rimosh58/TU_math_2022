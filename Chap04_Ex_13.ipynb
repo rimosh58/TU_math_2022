{
  "nbformat": 4,
  "nbformat_minor": 0,
  "metadata": {
    "colab": {
      "name": "Chap04_Ex-13.ipynb",
      "provenance": [],
      "collapsed_sections": [],
      "authorship_tag": "ABX9TyMAme5yKvg2n1gESfUUwbVE",
      "include_colab_link": true
    },
    "kernelspec": {
      "name": "python3",
      "display_name": "Python 3"
    },
    "language_info": {
      "name": "python"
    }
  },
  "cells": [
    {
      "cell_type": "markdown",
      "metadata": {
        "id": "view-in-github",
        "colab_type": "text"
      },
      "source": [
        "<a href=\"https://colab.research.google.com/github/rimosh58/TU_math_2022/blob/main/Chap04_Ex_13.ipynb\" target=\"_parent\"><img src=\"https://colab.research.google.com/assets/colab-badge.svg\" alt=\"Open In Colab\"/></a>"
      ]
    },
    {
      "cell_type": "code",
      "execution_count": null,
      "metadata": {
        "colab": {
          "base_uri": "https://localhost:8080/",
          "height": 35
        },
        "id": "lLeuXxOWUZG4",
        "outputId": "226e8b32-b11e-493d-8364-ede07e7d4085"
      },
      "outputs": [
        {
          "output_type": "execute_result",
          "data": {
            "text/plain": [
              "'%.3f'"
            ],
            "application/vnd.google.colaboratory.intrinsic+json": {
              "type": "string"
            }
          },
          "metadata": {},
          "execution_count": 2
        }
      ],
      "source": [
        "import numpy as np\n",
        "import scipy as sp\n",
        "from scipy import stats\n",
        "import pandas as pd\n",
        "from pandas import Series, DataFrame\n",
        "\n",
        "import matplotlib.pyplot as plt\n",
        "import matplotlib as mpl\n",
        "import seaborn as sns\n",
        "%matplotlib inline\n",
        "\n",
        "%precision 3"
      ]
    },
    {
      "cell_type": "code",
      "source": [
        "import requests\n",
        "import zipfile\n",
        "from io import StringIO\n",
        "import io\n",
        "\n",
        "zip_file_url = \"http://archive.ics.uci.edu/ml/machine-learning-databases/00356/student.zip\"\n",
        "\n",
        "r = requests.get(zip_file_url, stream = True)\n",
        "z = zipfile.ZipFile(io.BytesIO(r.content))\n",
        "z.extractall()\n",
        "\n",
        "student_data_math = pd.read_csv(\"student-mat.csv\", sep = \";\")"
      ],
      "metadata": {
        "id": "nN6VLEUOVHPQ"
      },
      "execution_count": null,
      "outputs": []
    },
    {
      "cell_type": "code",
      "source": [
        "student_data_math = pd.read_csv(\"student-mat.csv\", sep = \";\")\n",
        "\n",
        "student_data_por = pd.read_csv(\"student-por.csv\", sep = \";\")\n",
        "\n",
        "student_data_merge = pd.merge(student_data_math\n",
        "                              , student_data_por\n",
        "                              , on = [\"school\", \"sex\", \"age\", \"address\", \"famsize\", \"Pstatus\", \"Medu\"\n",
        "                                      , \"Fedu\", \"Mjob\", \"Fjob\", \"reason\", \"nursery\", \"internet\"]\n",
        "                              , suffixes = (\"_math\", \"_por\"))\n",
        "\n",
        "print(\"G2数学の成績平均：\", student_data_merge.G2_math.mean())\n",
        "print(\"G2ポルトガル語の成績平均\", student_data_merge.G2_por.mean())\n",
        "t, p2 = stats.ttest_rel(student_data_merge.G2_math, student_data_merge.G2_por)\n",
        "print(\"p値 = \", p2)\n",
        "\n",
        "print(\"G3数学の成績平均：\", student_data_merge.G3_math.mean())\n",
        "print(\"G3ポルトガル語の成績平均\", student_data_merge.G3_por.mean())\n",
        "t, p3 = stats.ttest_rel(student_data_merge.G3_math, student_data_merge.G3_por)\n",
        "print(\"p値 = \", p3)"
      ],
      "metadata": {
        "colab": {
          "base_uri": "https://localhost:8080/"
        },
        "id": "KvEZddWXUn0C",
        "outputId": "5694a5f1-5c6c-4f7c-fc34-af0187fa6c58"
      },
      "execution_count": null,
      "outputs": [
        {
          "output_type": "stream",
          "name": "stdout",
          "text": [
            "G2数学の成績平均： 10.712041884816754\n",
            "G2ポルトガル語の成績平均 12.238219895287958\n",
            "p値 =  4.0622824801348043e-19\n",
            "G3数学の成績平均： 10.387434554973822\n",
            "G3ポルトガル語の成績平均 12.515706806282722\n",
            "p値 =  5.561492113688385e-21\n"
          ]
        }
      ]
    },
    {
      "cell_type": "markdown",
      "source": [
        "p値が0.05未満(p<0.05, 5%未満)を有意とみなす。<br>\n",
        "G2，G3ともにp値が0.05未満なので，差があると言える。"
      ],
      "metadata": {
        "id": "pwKTyRNjWJXl"
      }
    }
  ]
}