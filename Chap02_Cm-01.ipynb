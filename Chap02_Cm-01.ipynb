{
  "nbformat": 4,
  "nbformat_minor": 0,
  "metadata": {
    "colab": {
      "name": "Chap02_Cm-01.ipynb",
      "provenance": [],
      "collapsed_sections": [],
      "authorship_tag": "ABX9TyOLmPTL9EPrRqVB2+IjPVXP",
      "include_colab_link": true
    },
    "kernelspec": {
      "name": "python3",
      "display_name": "Python 3"
    },
    "language_info": {
      "name": "python"
    }
  },
  "cells": [
    {
      "cell_type": "markdown",
      "metadata": {
        "id": "view-in-github",
        "colab_type": "text"
      },
      "source": [
        "<a href=\"https://colab.research.google.com/github/rimosh58/TU_math_2022/blob/main/Chap02_Cm-01.ipynb\" target=\"_parent\"><img src=\"https://colab.research.google.com/assets/colab-badge.svg\" alt=\"Open In Colab\"/></a>"
      ]
    },
    {
      "cell_type": "code",
      "execution_count": 28,
      "metadata": {
        "id": "5lwFVmhrBHN4"
      },
      "outputs": [],
      "source": [
        "import numpy as np\n",
        "import math\n",
        "#import numpy.random as random\n",
        "#import scipy as sp\n",
        "#import pandas as pd\n",
        "#from pandas import Series, DataFrame\n",
        "\n",
        "import matplotlib.pyplot as plt\n",
        "#import matplotlib as mpl\n",
        "#mport seaborn as sns\n",
        "#%matplotlib inline"
      ]
    },
    {
      "cell_type": "code",
      "source": [
        "# 2-1-1\n",
        "x = np.random.uniform(0.0, 1.0, 10000)\n",
        "y = np.random.uniform(0.0, 1.0, 10000)"
      ],
      "metadata": {
        "id": "sxOWtt-4B4sU"
      },
      "execution_count": 29,
      "outputs": []
    },
    {
      "cell_type": "code",
      "source": [
        "# 2-1-2\n",
        "incircle_x = []\n",
        "incircle_y = []\n",
        "outcircle_x = []\n",
        "outcircle_y = []\n",
        "\n",
        "count_in = 0\n",
        "\n",
        "for i in range(0, 10000):\n",
        "  dist = math.hypot(x[i], y[i])\n",
        "\n",
        "  if dist < 1:\n",
        "    count_in += 1\n",
        "    incircle_x.append(x[i])\n",
        "    incircle_y.append(y[i])\n",
        "\n",
        "  else:\n",
        "    outcircle_x.append(x[i])\n",
        "    outcircle_y.append(y[i])\n",
        "\n",
        "circle_x = np.arange(0, 1, 0.0001)\n",
        "circle_y = np.sqrt(1 - (circle_x) ** 2)\n",
        "\n",
        "#plt.plot(circle_x, circle_y, color = 'k', zorder = 2)\n",
        "\n",
        "#plt.plot(incircle_x, incircle_y, 'o', color = 'r', zorder = 1)\n",
        "#plt.plot(outcircle_x, outcircle_y, 'o', color = 'b', zorder = 1)\n",
        "\n",
        "fig = plt.figure()\n",
        "ax = fig.add_subplot(aspect = 'equal')\n",
        "ax.plot(circle_x, circle_y, color = 'k', zorder = 2)\n",
        "ax.plot(incircle_x, incircle_y, 'o', color = 'r', zorder = 1)\n",
        "ax.plot(outcircle_x, outcircle_y, 'o', color = 'b', zorder = 1)\n",
        "ax.grid()\n",
        "\n",
        "print(\"円の中に入った点:\", count_in)"
      ],
      "metadata": {
        "colab": {
          "base_uri": "https://localhost:8080/",
          "height": 282
        },
        "id": "LSwY_n4iCBi-",
        "outputId": "83a84767-c188-41e6-8861-b752535aedf4"
      },
      "execution_count": 30,
      "outputs": [
        {
          "output_type": "stream",
          "name": "stdout",
          "text": [
            "円の中に入った点: 7867\n"
          ]
        },
        {
          "output_type": "display_data",
          "data": {
            "text/plain": [
              "<Figure size 432x288 with 1 Axes>"
            ],
            "image/png": "[encoded data removed]"
          },
          "metadata": {
            "needs_background": "light"
          }
        }
      ]
    },
    {
      "cell_type": "code",
      "source": [
        "# 2-1-3\n",
        "pi = 4 * (count_in / 10000)\n",
        "print(pi)"
      ],
      "metadata": {
        "colab": {
          "base_uri": "https://localhost:8080/"
        },
        "id": "ReqHyxT2FKnY",
        "outputId": "5d0334ca-0f90-44b1-983c-7dc3c55d62c0"
      },
      "execution_count": 31,
      "outputs": [
        {
          "output_type": "stream",
          "name": "stdout",
          "text": [
            "3.1468\n"
          ]
        }
      ]
    }
  ]
}