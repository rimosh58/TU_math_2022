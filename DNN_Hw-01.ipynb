{
  "cells": [
    {
      "cell_type": "markdown",
      "metadata": {
        "id": "view-in-github",
        "colab_type": "text"
      },
      "source": [
        "<a href=\"https://colab.research.google.com/github/rimosh58/TU_math_2022/blob/main/DNN_Hw-01.ipynb\" target=\"_parent\"><img src=\"https://colab.research.google.com/assets/colab-badge.svg\" alt=\"Open In Colab\"/></a>"
      ]
    },
    {
      "cell_type": "markdown",
      "source": [
        "# DNN 教材"
      ],
      "metadata": {
        "id": "xaHVTzJ4G9Qb"
      }
    },
    {
      "cell_type": "markdown",
      "metadata": {
        "id": "JDFBVx0PvTy2"
      },
      "source": [
        "### Perceptron"
      ]
    },
    {
      "cell_type": "markdown",
      "metadata": {
        "id": "W6OWATZWvTy3"
      },
      "source": [
        "実際にPerceptronを使って、Irisの花の種類がIris Setosaかそれ以外かを判別するモデルを作る。\n",
        "\n",
        "__Dataset__ \n",
        "\n",
        "50個のIrisの花に関するレコードがある。がく片の幅、がく片の長さ、花弁の長さ、花弁の幅、Irisの花の種類が一つのレコードに含まれている。花の種類は、Iris Setosa、Iris VersicolourとIris Virginicaのどれか。\n",
        "\n",
        "__Goal__\n",
        "\n",
        "Irisのがく片と花弁の特徴を基に、IrisがIris Setosaかそれ以外かを判別するモデルを作る"
      ]
    },
    {
      "cell_type": "code",
      "execution_count": 1,
      "metadata": {
        "id": "OVZXi93mvTy3",
        "colab": {
          "base_uri": "https://localhost:8080/"
        },
        "outputId": "f37cbd0c-ba66-4f82-803e-ccab98994a3b"
      },
      "outputs": [
        {
          "output_type": "stream",
          "name": "stdout",
          "text": [
            "Accuracy : 1.0\n"
          ]
        }
      ],
      "source": [
        "import numpy as np \n",
        "from sklearn.datasets import load_iris \n",
        "from sklearn.linear_model import Perceptron\n",
        "from sklearn.model_selection import train_test_split\n",
        "from sklearn.metrics import accuracy_score\n",
        "\n",
        "#データセットをロード\n",
        "iris = load_iris()\n",
        "\n",
        "#predictor と　target に分ける\n",
        "X = iris.data\n",
        "\n",
        "#Iris Setosaが１の値をとり、それ以外は０\n",
        "Y = (iris.target == 0).astype(int)\n",
        "\n",
        "#データセットのシャッフルをして、トレーニング用とテスト用のデータに分ける\n",
        "#モデルの評価をしっかりやりたい時は、cross validationを実行、さらにハイパーパラメータの最適化を行う\n",
        "train_X, test_X, train_Y, test_Y = train_test_split(X, Y, test_size = 0.3, random_state = 42, shuffle = True)\n",
        "\n",
        "#トレーニング\n",
        "perc_clf = Perceptron()\n",
        "perc_clf.fit(train_X, train_Y)\n",
        "\n",
        "#テスト\n",
        "predictions = perc_clf.predict(test_X)\n",
        "\n",
        "#Accuracyを計算\n",
        "print(\"Accuracy : \" +str(accuracy_score(test_Y, predictions)))\n"
      ]
    },
    {
      "cell_type": "markdown",
      "metadata": {
        "id": "NUDPWu9CvTy5"
      },
      "source": [
        "### Multi Layer Perceptron using Scikit learn"
      ]
    },
    {
      "cell_type": "markdown",
      "metadata": {
        "id": "F6A-qF2rvTy5"
      },
      "source": [
        "Multi Layer Perceptronを使って、3つのIrisの種類を判別するモデルを作る\n",
        "\n",
        "__Dataset__\n",
        "\n",
        "前回と同じ\n",
        "\n",
        "__Goal__\n",
        "\n",
        "Irisのがく片と花弁の特徴を基に、Irisの花がIris Setosa、Iris Versicolour、それともIris Virginicaかを判別する。\n",
        "\n",
        "__Note__\n",
        "\n",
        "\n",
        "*   一つのクラスの判別に一つのoutput nodeが必要なので、3つのoutput nodeが必要。ただコードを書く際にこの指定は不要。\n",
        "\n",
        "*   一つ一つのアウトプットノードはそのクラスに当てはまる確率を計算して、出力。\n",
        "\n",
        "\n",
        "\n",
        "*   一つのレコードに対して一つのクラスが割り当てられているので、その三つのoutput node から出てくる確率の合計は１になる必要がある。\n",
        "\n"
      ]
    },
    {
      "cell_type": "code",
      "execution_count": 2,
      "metadata": {
        "id": "fqXSwyakvTy5",
        "colab": {
          "base_uri": "https://localhost:8080/"
        },
        "outputId": "6e7d7211-0bfc-4b96-8d6f-4248fce304ed"
      },
      "outputs": [
        {
          "output_type": "stream",
          "name": "stdout",
          "text": [
            "Accuracy : 0.9777777777777777\n"
          ]
        }
      ],
      "source": [
        "from sklearn.datasets import load_iris\n",
        "from sklearn.neural_network import MLPClassifier\n",
        "from sklearn.model_selection import train_test_split\n",
        "from sklearn.metrics import accuracy_score\n",
        "#データセットをロード\n",
        "iris = load_iris()\n",
        "#predictor と　target に分ける\n",
        "X = iris.data\n",
        "Y = iris.target\n",
        "\n",
        "#データセットのシャッフルをして、トレーニング用とテスト用のデータに分ける\n",
        "#モデルの評価をしっかりやりたい時は、validationのデータセットを作るのが良い。\n",
        "train_X, test_X, train_Y, test_Y = train_test_split(X, Y, test_size = 0.3, random_state = 42, shuffle = True)\n",
        "\n",
        "#二つのHidden Layer を追加、それぞれ10個のニューロンを持つ\n",
        "mlp_clsf = MLPClassifier((10, 10), activation = 'relu', learning_rate = 'constant', learning_rate_init = 0.001, max_iter = 1000, random_state = 42)\n",
        "mlp_clsf.fit(train_X, train_Y)\n",
        "predictions = mlp_clsf.predict(test_X)\n",
        "print(\"Accuracy : \" +str(accuracy_score(test_Y, predictions)))"
      ]
    },
    {
      "cell_type": "code",
      "execution_count": 3,
      "metadata": {
        "id": "XfyE9k6SvTy6",
        "colab": {
          "base_uri": "https://localhost:8080/"
        },
        "outputId": "6c4f84ae-47bf-473c-c7f6-7324de8b74b9"
      },
      "outputs": [
        {
          "output_type": "execute_result",
          "data": {
            "text/plain": [
              "1.0"
            ]
          },
          "metadata": {},
          "execution_count": 3
        }
      ],
      "source": [
        "#確率の合計が１かを確認\n",
        "mlp_clsf.predict_proba(test_X[0].reshape(1, -1)).sum()"
      ]
    },
    {
      "cell_type": "markdown",
      "metadata": {
        "id": "AQI7-M9KvTy6"
      },
      "source": [
        "### Activation Function "
      ]
    },
    {
      "cell_type": "markdown",
      "source": [
        "このMLPにSoftmaxがactivation functionとして使われている"
      ],
      "metadata": {
        "id": "k7_W11IYID2p"
      }
    },
    {
      "cell_type": "code",
      "execution_count": 4,
      "metadata": {
        "id": "ffl1_qbxvTy7",
        "colab": {
          "base_uri": "https://localhost:8080/",
          "height": 0
        },
        "outputId": "794dc950-b2f1-489e-9fde-6cc360428f10"
      },
      "outputs": [
        {
          "output_type": "execute_result",
          "data": {
            "text/plain": [
              "'softmax'"
            ],
            "application/vnd.google.colaboratory.intrinsic+json": {
              "type": "string"
            }
          },
          "metadata": {},
          "execution_count": 4
        }
      ],
      "source": [
        "mlp_clsf.out_activation_"
      ]
    },
    {
      "cell_type": "markdown",
      "metadata": {
        "id": "xEC5-Px4vTy7"
      },
      "source": [
        "## MLP Regression "
      ]
    },
    {
      "cell_type": "markdown",
      "metadata": {
        "id": "ENGVw0vUvTy7"
      },
      "source": [
        "MLP Regressorを用いて、ボストンの住宅価格(単位は1000$)を予測するモデルを作る\n",
        "\n",
        "__Dataset__ \n",
        "\n",
        "1970年代のボストン郊外の住宅地に関するデータセット。ボストン郊外の異なるロケーションで13個の住宅に関する変数と住宅の価格の中央値が記録されている。506個のレコードが記録されている。\n",
        "\n",
        "__Goal__\n",
        "\n",
        "その中央値を13個の変数を基に予測する。\n",
        "\n",
        "\n",
        "　"
      ]
    },
    {
      "cell_type": "code",
      "execution_count": 5,
      "metadata": {
        "scrolled": true,
        "id": "fC6bRC1PvTy7",
        "colab": {
          "base_uri": "https://localhost:8080/"
        },
        "outputId": "a86447f1-026b-4f35-b56a-af12b5a41a0b"
      },
      "outputs": [
        {
          "output_type": "stream",
          "name": "stderr",
          "text": [
            "/usr/local/lib/python3.7/dist-packages/sklearn/utils/deprecation.py:87: FutureWarning: Function load_boston is deprecated; `load_boston` is deprecated in 1.0 and will be removed in 1.2.\n",
            "\n",
            "    The Boston housing prices dataset has an ethical problem. You can refer to\n",
            "    the documentation of this function for further details.\n",
            "\n",
            "    The scikit-learn maintainers therefore strongly discourage the use of this\n",
            "    dataset unless the purpose of the code is to study and educate about\n",
            "    ethical issues in data science and machine learning.\n",
            "\n",
            "    In this special case, you can fetch the dataset from the original\n",
            "    source::\n",
            "\n",
            "        import pandas as pd\n",
            "        import numpy as np\n",
            "\n",
            "\n",
            "        data_url = \"http://lib.stat.cmu.edu/datasets/boston\"\n",
            "        raw_df = pd.read_csv(data_url, sep=\"\\s+\", skiprows=22, header=None)\n",
            "        data = np.hstack([raw_df.values[::2, :], raw_df.values[1::2, :2]])\n",
            "        target = raw_df.values[1::2, 2]\n",
            "\n",
            "    Alternative datasets include the California housing dataset (i.e.\n",
            "    :func:`~sklearn.datasets.fetch_california_housing`) and the Ames housing\n",
            "    dataset. You can load the datasets as follows::\n",
            "\n",
            "        from sklearn.datasets import fetch_california_housing\n",
            "        housing = fetch_california_housing()\n",
            "\n",
            "    for the California housing dataset and::\n",
            "\n",
            "        from sklearn.datasets import fetch_openml\n",
            "        housing = fetch_openml(name=\"house_prices\", as_frame=True)\n",
            "\n",
            "    for the Ames housing dataset.\n",
            "    \n",
            "  warnings.warn(msg, category=FutureWarning)\n"
          ]
        },
        {
          "output_type": "stream",
          "name": "stdout",
          "text": [
            "RSME : 4.699377521565086\n"
          ]
        }
      ],
      "source": [
        "from sklearn.datasets import load_boston\n",
        "from sklearn.neural_network import MLPRegressor\n",
        "from sklearn.model_selection import train_test_split\n",
        "from sklearn.metrics import mean_squared_error\n",
        "\n",
        "#データセットをロード\n",
        "dataset = load_boston()\n",
        "X = dataset['data']\n",
        "Y = dataset['target']\n",
        "\n",
        "#テストとトレーニングのデータセットに分ける\n",
        "#モデルの評価をしっかりやりたい時は、validationのデータセットを作るのが良い。\n",
        "train_X, test_X, train_Y, test_Y = train_test_split(X, Y, test_size = 0.3, random_state = 42, shuffle = True)\n",
        "\n",
        "#２個のhidden layerを追加　activation function は relu.\n",
        "mlp_reg = MLPRegressor((10, 10), activation = 'relu', learning_rate = 'constant', learning_rate_init = 0.001, max_iter = 3000, random_state = 42)\n",
        "mlp_reg.fit(train_X, train_Y)\n",
        "predictions = mlp_reg.predict(test_X)\n",
        "\n",
        "#RSMEを計算\n",
        "error = mean_squared_error(test_Y, predictions) ** (1/2)\n",
        "print(\"RSME : \" +str(error))"
      ]
    },
    {
      "cell_type": "markdown",
      "metadata": {
        "id": "VfeMh6E7vTy8"
      },
      "source": [
        "::アウトプットノードのActivation functionはIdentity。（Activation function は使われていないということ。）"
      ]
    },
    {
      "cell_type": "code",
      "execution_count": 6,
      "metadata": {
        "scrolled": true,
        "id": "yLfuWPKWvTy8",
        "colab": {
          "base_uri": "https://localhost:8080/",
          "height": 0
        },
        "outputId": "748f7cba-91e5-4a34-c985-a18a4c8d3167"
      },
      "outputs": [
        {
          "output_type": "execute_result",
          "data": {
            "text/plain": [
              "'identity'"
            ],
            "application/vnd.google.colaboratory.intrinsic+json": {
              "type": "string"
            }
          },
          "metadata": {},
          "execution_count": 6
        }
      ],
      "source": [
        "mlp_reg.out_activation_"
      ]
    },
    {
      "cell_type": "markdown",
      "metadata": {
        "id": "KFaUB_E7vTy8"
      },
      "source": [
        "## Regression using Keras  "
      ]
    },
    {
      "cell_type": "code",
      "execution_count": 7,
      "metadata": {
        "scrolled": true,
        "id": "36cxPugbvTy8",
        "colab": {
          "base_uri": "https://localhost:8080/"
        },
        "outputId": "d4fa764c-7706-498a-d2b5-7c8b17de7106"
      },
      "outputs": [
        {
          "output_type": "stream",
          "name": "stdout",
          "text": [
            "Downloading data from https://storage.googleapis.com/tensorflow/tf-keras-datasets/boston_housing.npz\n",
            "57344/57026 [==============================] - 0s 0us/step\n",
            "65536/57026 [==================================] - 0s 0us/step\n",
            "Model: \"sequential\"\n",
            "_________________________________________________________________\n",
            " Layer (type)                Output Shape              Param #   \n",
            "=================================================================\n",
            " dense (Dense)               (None, 30)                420       \n",
            "                                                                 \n",
            " dense_1 (Dense)             (None, 1)                 31        \n",
            "                                                                 \n",
            "=================================================================\n",
            "Total params: 451\n",
            "Trainable params: 451\n",
            "Non-trainable params: 0\n",
            "_________________________________________________________________\n",
            "Epoch 1/70\n",
            "10/10 [==============================] - 5s 34ms/step - loss: 201.6518 - root_mean_squared_error: 14.2004 - val_loss: 33.7969 - val_root_mean_squared_error: 5.8135\n",
            "Epoch 2/70\n",
            "10/10 [==============================] - 0s 9ms/step - loss: 29.7535 - root_mean_squared_error: 5.4547 - val_loss: 29.4991 - val_root_mean_squared_error: 5.4313\n",
            "Epoch 3/70\n",
            "10/10 [==============================] - 0s 13ms/step - loss: 23.9503 - root_mean_squared_error: 4.8939 - val_loss: 22.6665 - val_root_mean_squared_error: 4.7609\n",
            "Epoch 4/70\n",
            "10/10 [==============================] - 0s 13ms/step - loss: 21.5459 - root_mean_squared_error: 4.6418 - val_loss: 21.9808 - val_root_mean_squared_error: 4.6884\n",
            "Epoch 5/70\n",
            "10/10 [==============================] - 0s 12ms/step - loss: 17.0266 - root_mean_squared_error: 4.1263 - val_loss: 23.4709 - val_root_mean_squared_error: 4.8447\n",
            "Epoch 6/70\n",
            "10/10 [==============================] - 0s 15ms/step - loss: 15.1592 - root_mean_squared_error: 3.8935 - val_loss: 17.1825 - val_root_mean_squared_error: 4.1452\n",
            "Epoch 7/70\n",
            "10/10 [==============================] - 0s 9ms/step - loss: 13.9879 - root_mean_squared_error: 3.7400 - val_loss: 15.8007 - val_root_mean_squared_error: 3.9750\n",
            "Epoch 8/70\n",
            "10/10 [==============================] - 0s 15ms/step - loss: 14.3347 - root_mean_squared_error: 3.7861 - val_loss: 12.1528 - val_root_mean_squared_error: 3.4861\n",
            "Epoch 9/70\n",
            "10/10 [==============================] - 0s 11ms/step - loss: 11.6020 - root_mean_squared_error: 3.4062 - val_loss: 16.4157 - val_root_mean_squared_error: 4.0516\n",
            "Epoch 10/70\n",
            "10/10 [==============================] - 0s 10ms/step - loss: 11.9707 - root_mean_squared_error: 3.4599 - val_loss: 13.8437 - val_root_mean_squared_error: 3.7207\n",
            "Epoch 11/70\n",
            "10/10 [==============================] - 0s 10ms/step - loss: 11.0608 - root_mean_squared_error: 3.3258 - val_loss: 11.2841 - val_root_mean_squared_error: 3.3592\n",
            "Epoch 12/70\n",
            "10/10 [==============================] - 0s 13ms/step - loss: 11.0444 - root_mean_squared_error: 3.3233 - val_loss: 15.3390 - val_root_mean_squared_error: 3.9165\n",
            "Epoch 13/70\n",
            "10/10 [==============================] - 0s 9ms/step - loss: 10.3881 - root_mean_squared_error: 3.2231 - val_loss: 14.2296 - val_root_mean_squared_error: 3.7722\n",
            "Epoch 14/70\n",
            "10/10 [==============================] - 0s 8ms/step - loss: 9.9528 - root_mean_squared_error: 3.1548 - val_loss: 11.1078 - val_root_mean_squared_error: 3.3328\n",
            "Epoch 15/70\n",
            "10/10 [==============================] - 0s 9ms/step - loss: 11.2908 - root_mean_squared_error: 3.3602 - val_loss: 22.8167 - val_root_mean_squared_error: 4.7767\n",
            "Epoch 16/70\n",
            "10/10 [==============================] - 0s 10ms/step - loss: 14.2687 - root_mean_squared_error: 3.7774 - val_loss: 10.1483 - val_root_mean_squared_error: 3.1856\n",
            "Epoch 17/70\n",
            "10/10 [==============================] - 0s 16ms/step - loss: 9.6170 - root_mean_squared_error: 3.1011 - val_loss: 10.9403 - val_root_mean_squared_error: 3.3076\n",
            "Epoch 18/70\n",
            "10/10 [==============================] - 0s 17ms/step - loss: 10.5685 - root_mean_squared_error: 3.2509 - val_loss: 9.6653 - val_root_mean_squared_error: 3.1089\n",
            "Epoch 19/70\n",
            "10/10 [==============================] - 0s 10ms/step - loss: 8.8997 - root_mean_squared_error: 2.9832 - val_loss: 20.9951 - val_root_mean_squared_error: 4.5820\n",
            "Epoch 20/70\n",
            "10/10 [==============================] - 0s 15ms/step - loss: 10.1277 - root_mean_squared_error: 3.1824 - val_loss: 12.7587 - val_root_mean_squared_error: 3.5719\n",
            "Epoch 21/70\n",
            "10/10 [==============================] - 0s 10ms/step - loss: 8.5160 - root_mean_squared_error: 2.9182 - val_loss: 11.0539 - val_root_mean_squared_error: 3.3247\n",
            "Epoch 22/70\n",
            "10/10 [==============================] - 0s 9ms/step - loss: 9.7471 - root_mean_squared_error: 3.1220 - val_loss: 10.4872 - val_root_mean_squared_error: 3.2384\n",
            "Epoch 23/70\n",
            "10/10 [==============================] - 0s 13ms/step - loss: 10.7618 - root_mean_squared_error: 3.2805 - val_loss: 12.8341 - val_root_mean_squared_error: 3.5825\n",
            "Epoch 24/70\n",
            "10/10 [==============================] - 0s 11ms/step - loss: 10.3992 - root_mean_squared_error: 3.2248 - val_loss: 10.8412 - val_root_mean_squared_error: 3.2926\n",
            "Epoch 25/70\n",
            "10/10 [==============================] - 0s 21ms/step - loss: 10.1802 - root_mean_squared_error: 3.1906 - val_loss: 11.1727 - val_root_mean_squared_error: 3.3426\n",
            "Epoch 26/70\n",
            "10/10 [==============================] - 0s 9ms/step - loss: 8.6990 - root_mean_squared_error: 2.9494 - val_loss: 13.0139 - val_root_mean_squared_error: 3.6075\n",
            "Epoch 27/70\n",
            "10/10 [==============================] - 0s 7ms/step - loss: 9.0902 - root_mean_squared_error: 3.0150 - val_loss: 13.9950 - val_root_mean_squared_error: 3.7410\n",
            "Epoch 28/70\n",
            "10/10 [==============================] - 0s 13ms/step - loss: 8.9379 - root_mean_squared_error: 2.9896 - val_loss: 14.5246 - val_root_mean_squared_error: 3.8111\n",
            "Epoch 29/70\n",
            "10/10 [==============================] - 0s 8ms/step - loss: 8.7673 - root_mean_squared_error: 2.9610 - val_loss: 10.8251 - val_root_mean_squared_error: 3.2901\n",
            "Epoch 30/70\n",
            "10/10 [==============================] - 0s 9ms/step - loss: 8.2826 - root_mean_squared_error: 2.8779 - val_loss: 11.1795 - val_root_mean_squared_error: 3.3436\n",
            "Epoch 31/70\n",
            "10/10 [==============================] - 0s 8ms/step - loss: 8.4761 - root_mean_squared_error: 2.9114 - val_loss: 10.6373 - val_root_mean_squared_error: 3.2615\n",
            "Epoch 32/70\n",
            "10/10 [==============================] - 0s 9ms/step - loss: 8.1829 - root_mean_squared_error: 2.8606 - val_loss: 10.2846 - val_root_mean_squared_error: 3.2070\n",
            "Epoch 33/70\n",
            "10/10 [==============================] - 0s 8ms/step - loss: 9.2074 - root_mean_squared_error: 3.0344 - val_loss: 12.6313 - val_root_mean_squared_error: 3.5540\n",
            "Epoch 34/70\n",
            "10/10 [==============================] - 0s 8ms/step - loss: 10.1945 - root_mean_squared_error: 3.1929 - val_loss: 13.8543 - val_root_mean_squared_error: 3.7221\n",
            "Epoch 35/70\n",
            "10/10 [==============================] - 0s 9ms/step - loss: 9.9713 - root_mean_squared_error: 3.1577 - val_loss: 20.6488 - val_root_mean_squared_error: 4.5441\n",
            "Epoch 36/70\n",
            "10/10 [==============================] - 0s 15ms/step - loss: 9.8740 - root_mean_squared_error: 3.1423 - val_loss: 20.6151 - val_root_mean_squared_error: 4.5404\n",
            "Epoch 37/70\n",
            "10/10 [==============================] - 0s 10ms/step - loss: 10.2181 - root_mean_squared_error: 3.1966 - val_loss: 10.0021 - val_root_mean_squared_error: 3.1626\n",
            "Epoch 38/70\n",
            "10/10 [==============================] - 0s 12ms/step - loss: 9.1208 - root_mean_squared_error: 3.0201 - val_loss: 24.1286 - val_root_mean_squared_error: 4.9121\n",
            "Epoch 39/70\n",
            "10/10 [==============================] - 0s 17ms/step - loss: 8.3756 - root_mean_squared_error: 2.8941 - val_loss: 8.2463 - val_root_mean_squared_error: 2.8716\n",
            "Epoch 40/70\n",
            "10/10 [==============================] - 0s 15ms/step - loss: 8.4100 - root_mean_squared_error: 2.9000 - val_loss: 10.4504 - val_root_mean_squared_error: 3.2327\n",
            "Epoch 41/70\n",
            "10/10 [==============================] - 0s 9ms/step - loss: 8.0035 - root_mean_squared_error: 2.8291 - val_loss: 15.6080 - val_root_mean_squared_error: 3.9507\n",
            "Epoch 42/70\n",
            "10/10 [==============================] - 0s 10ms/step - loss: 8.4590 - root_mean_squared_error: 2.9084 - val_loss: 10.1949 - val_root_mean_squared_error: 3.1929\n",
            "Epoch 43/70\n",
            "10/10 [==============================] - 0s 8ms/step - loss: 8.6670 - root_mean_squared_error: 2.9440 - val_loss: 10.1672 - val_root_mean_squared_error: 3.1886\n",
            "Epoch 44/70\n",
            "10/10 [==============================] - 0s 10ms/step - loss: 8.9537 - root_mean_squared_error: 2.9923 - val_loss: 16.3827 - val_root_mean_squared_error: 4.0476\n",
            "Epoch 45/70\n",
            "10/10 [==============================] - 0s 8ms/step - loss: 8.6409 - root_mean_squared_error: 2.9395 - val_loss: 11.9258 - val_root_mean_squared_error: 3.4534\n",
            "Epoch 46/70\n",
            "10/10 [==============================] - 0s 7ms/step - loss: 8.8472 - root_mean_squared_error: 2.9744 - val_loss: 10.7223 - val_root_mean_squared_error: 3.2745\n",
            "Epoch 47/70\n",
            "10/10 [==============================] - 0s 12ms/step - loss: 8.7964 - root_mean_squared_error: 2.9659 - val_loss: 12.7135 - val_root_mean_squared_error: 3.5656\n",
            "Epoch 48/70\n",
            "10/10 [==============================] - 0s 12ms/step - loss: 8.2953 - root_mean_squared_error: 2.8802 - val_loss: 15.4253 - val_root_mean_squared_error: 3.9275\n",
            "Epoch 49/70\n",
            "10/10 [==============================] - 0s 12ms/step - loss: 10.1736 - root_mean_squared_error: 3.1896 - val_loss: 11.7959 - val_root_mean_squared_error: 3.4345\n",
            "Epoch 50/70\n",
            "10/10 [==============================] - 0s 9ms/step - loss: 7.8924 - root_mean_squared_error: 2.8093 - val_loss: 10.4573 - val_root_mean_squared_error: 3.2338\n",
            "Epoch 51/70\n",
            "10/10 [==============================] - 0s 14ms/step - loss: 7.5308 - root_mean_squared_error: 2.7442 - val_loss: 12.6768 - val_root_mean_squared_error: 3.5604\n",
            "Epoch 52/70\n",
            "10/10 [==============================] - 0s 8ms/step - loss: 8.0404 - root_mean_squared_error: 2.8356 - val_loss: 10.0818 - val_root_mean_squared_error: 3.1752\n",
            "Epoch 53/70\n",
            "10/10 [==============================] - 0s 9ms/step - loss: 8.5408 - root_mean_squared_error: 2.9225 - val_loss: 14.8906 - val_root_mean_squared_error: 3.8588\n",
            "Epoch 54/70\n",
            "10/10 [==============================] - 0s 9ms/step - loss: 7.5070 - root_mean_squared_error: 2.7399 - val_loss: 9.5795 - val_root_mean_squared_error: 3.0951\n",
            "Epoch 55/70\n",
            "10/10 [==============================] - 0s 12ms/step - loss: 7.5497 - root_mean_squared_error: 2.7477 - val_loss: 9.0971 - val_root_mean_squared_error: 3.0161\n",
            "Epoch 56/70\n",
            "10/10 [==============================] - 0s 8ms/step - loss: 8.2931 - root_mean_squared_error: 2.8798 - val_loss: 27.3692 - val_root_mean_squared_error: 5.2316\n",
            "Epoch 57/70\n",
            "10/10 [==============================] - 0s 8ms/step - loss: 8.7881 - root_mean_squared_error: 2.9645 - val_loss: 12.9518 - val_root_mean_squared_error: 3.5989\n",
            "Epoch 58/70\n",
            "10/10 [==============================] - 0s 10ms/step - loss: 9.2069 - root_mean_squared_error: 3.0343 - val_loss: 18.3278 - val_root_mean_squared_error: 4.2811\n",
            "Epoch 59/70\n",
            "10/10 [==============================] - 0s 13ms/step - loss: 8.7036 - root_mean_squared_error: 2.9502 - val_loss: 10.1138 - val_root_mean_squared_error: 3.1802\n",
            "Epoch 60/70\n",
            "10/10 [==============================] - 0s 8ms/step - loss: 7.7871 - root_mean_squared_error: 2.7905 - val_loss: 10.4588 - val_root_mean_squared_error: 3.2340\n",
            "Epoch 61/70\n",
            "10/10 [==============================] - 0s 10ms/step - loss: 7.4168 - root_mean_squared_error: 2.7234 - val_loss: 10.3568 - val_root_mean_squared_error: 3.2182\n",
            "Epoch 62/70\n",
            "10/10 [==============================] - 0s 7ms/step - loss: 8.1552 - root_mean_squared_error: 2.8557 - val_loss: 10.6781 - val_root_mean_squared_error: 3.2677\n",
            "Epoch 63/70\n",
            "10/10 [==============================] - 0s 15ms/step - loss: 8.5614 - root_mean_squared_error: 2.9260 - val_loss: 10.6485 - val_root_mean_squared_error: 3.2632\n",
            "Epoch 64/70\n",
            "10/10 [==============================] - 0s 13ms/step - loss: 7.6876 - root_mean_squared_error: 2.7726 - val_loss: 21.6124 - val_root_mean_squared_error: 4.6489\n",
            "Epoch 65/70\n",
            "10/10 [==============================] - 0s 17ms/step - loss: 9.6613 - root_mean_squared_error: 3.1083 - val_loss: 11.0866 - val_root_mean_squared_error: 3.3297\n",
            "Epoch 66/70\n",
            "10/10 [==============================] - 0s 14ms/step - loss: 6.9848 - root_mean_squared_error: 2.6429 - val_loss: 13.8092 - val_root_mean_squared_error: 3.7161\n",
            "Epoch 67/70\n",
            "10/10 [==============================] - 0s 17ms/step - loss: 7.8676 - root_mean_squared_error: 2.8049 - val_loss: 10.0366 - val_root_mean_squared_error: 3.1681\n",
            "Epoch 68/70\n",
            "10/10 [==============================] - 0s 11ms/step - loss: 7.1077 - root_mean_squared_error: 2.6660 - val_loss: 12.1996 - val_root_mean_squared_error: 3.4928\n",
            "Epoch 69/70\n",
            "10/10 [==============================] - 0s 17ms/step - loss: 7.3911 - root_mean_squared_error: 2.7187 - val_loss: 10.3081 - val_root_mean_squared_error: 3.2106\n",
            "Epoch 70/70\n",
            "10/10 [==============================] - 0s 9ms/step - loss: 7.2920 - root_mean_squared_error: 2.7004 - val_loss: 10.0993 - val_root_mean_squared_error: 3.1779\n"
          ]
        }
      ],
      "source": [
        "import tensorflow as tf \n",
        "from tensorflow import keras\n",
        "from sklearn.preprocessing import StandardScaler\n",
        "\n",
        "#データセットをダウンロード\n",
        "house_price = keras.datasets.boston_housing\n",
        "\n",
        "#データをtraining, validation, test に分ける\n",
        "(train_X, train_Y), (test_X, test_Y) = house_price.load_data()\n",
        "train_X, valid_X, train_Y, valid_Y = train_test_split(train_X, train_Y)\n",
        "\n",
        "#変数をスケーリング　最適化を早くするため\n",
        "scaler = StandardScaler()\n",
        "train_X = scaler.fit_transform(train_X)\n",
        "valid_X = scaler.fit_transform(valid_X)\n",
        "test_X = scaler.fit_transform(test_X)\n",
        "\n",
        "#KerasのSequential model を使う\n",
        "keras_model = keras.models.Sequential()\n",
        "\n",
        "#インプットレイヤーを追加\n",
        "keras_model.add(tf.keras.Input(shape = train_X.shape[1:], ))\n",
        "\n",
        "#Hidden layer を追加\n",
        "keras_model.add(tf.keras.layers.Dense(30, activation = 'relu'))\n",
        "\n",
        "#Output layer を追加\n",
        "keras_model.add(tf.keras.layers.Dense(1))\n",
        "\n",
        "keras_model.summary()\n",
        "\n",
        "#モデルをコンパイル\n",
        "keras_model.compile(loss = 'mean_squared_error', optimizer = 'sgd', \n",
        "                    metrics = [tf.keras.metrics.RootMeanSquaredError(name = 'root_mean_squared_error', dtype = None)])\n",
        "\n",
        "#モデルをトレーニング\n",
        "#validationのデータセットがあれば、それを渡すことで、validationに関してのlossやRMSEの計算なども簡単にできる\n",
        "history = keras_model.fit(train_X, train_Y, epochs = 70, validation_data = (valid_X, valid_Y))"
      ]
    },
    {
      "cell_type": "markdown",
      "source": [
        "損失関数とRMSEの値をエポックごとにプロットする。ValidationとTraningのデータセットのそれぞれに、その二つの値が計算されている。　エポックはトレーニングのデータセットを何回学習したかを表します。ニューラルネットでは一つのトレーニングのデータセットを何回も学習させます。"
      ],
      "metadata": {
        "id": "nudpvV9FNTI8"
      }
    },
    {
      "cell_type": "code",
      "execution_count": 8,
      "metadata": {
        "id": "QeqAypyevTy9",
        "colab": {
          "base_uri": "https://localhost:8080/",
          "height": 0
        },
        "outputId": "5e8eb328-b2ef-40c6-cc6f-cf6c2e96c838"
      },
      "outputs": [
        {
          "output_type": "display_data",
          "data": {
            "text/plain": [
              "<Figure size 720x576 with 1 Axes>"
            ],
            "image/png": "[encoded data removed]"
          },
          "metadata": {
            "needs_background": "light"
          }
        }
      ],
      "source": [
        "import pandas as pd \n",
        "import matplotlib.pyplot as plt\n",
        "pd.DataFrame(history.history).plot(figsize = (10, 8))\n",
        "plt.grid(True)\n",
        "plt.gca().set_ylim(0, 60)\n",
        "plt.xlabel(\"# of Epochs\")\n",
        "plt.show()"
      ]
    },
    {
      "cell_type": "markdown",
      "source": [
        "Test Datasetにモデルを適応して、RMSEを計算"
      ],
      "metadata": {
        "id": "3xW99aZMN49B"
      }
    },
    {
      "cell_type": "code",
      "execution_count": 9,
      "metadata": {
        "id": "AA35BTjJvTy9",
        "colab": {
          "base_uri": "https://localhost:8080/"
        },
        "outputId": "b2d2b9ba-6ca6-4cfe-c31d-1392ab9c8cc6"
      },
      "outputs": [
        {
          "output_type": "execute_result",
          "data": {
            "text/plain": [
              "4.634740632823437"
            ]
          },
          "metadata": {},
          "execution_count": 9
        }
      ],
      "source": [
        "mean_squared_error(test_Y,keras_model.predict(test_X)) ** (1/2)"
      ]
    },
    {
      "cell_type": "markdown",
      "metadata": {
        "id": "7hXlz7iBvTy9"
      },
      "source": [
        "## Classificaiton using Keras "
      ]
    },
    {
      "cell_type": "markdown",
      "source": [
        "Dataset\n",
        "\n",
        "手書きの数字を表したイメージが含まれている。イメージは28*28で全７８４ピクセル。\n",
        "\n",
        "Goal \n",
        "\n",
        "イメージが０から９のどの数字なのかを判別する。"
      ],
      "metadata": {
        "id": "7H6eGUDslmQR"
      }
    },
    {
      "cell_type": "code",
      "execution_count": 10,
      "metadata": {
        "id": "f-R9_s0IvTy9",
        "colab": {
          "base_uri": "https://localhost:8080/"
        },
        "outputId": "832d09fc-5a06-4e4a-94b3-178c547dd576"
      },
      "outputs": [
        {
          "output_type": "stream",
          "name": "stdout",
          "text": [
            "Downloading data from https://storage.googleapis.com/tensorflow/tf-keras-datasets/mnist.npz\n",
            "11493376/11490434 [==============================] - 0s 0us/step\n",
            "11501568/11490434 [==============================] - 0s 0us/step\n"
          ]
        }
      ],
      "source": [
        "#データをダウンロードして、トレーニングとテストに分ける\n",
        "(train_X, train_Y), (test_X, test_Y) = tf.keras.datasets.mnist.load_data(path = \"mnist.npz\")"
      ]
    },
    {
      "cell_type": "code",
      "execution_count": 11,
      "metadata": {
        "scrolled": true,
        "id": "caiVoYtgvTy9",
        "colab": {
          "base_uri": "https://localhost:8080/",
          "height": 265
        },
        "outputId": "00801c45-0da0-4b15-fd6d-18b1bb50ec94"
      },
      "outputs": [
        {
          "output_type": "display_data",
          "data": {
            "text/plain": [
              "<Figure size 432x288 with 1 Axes>"
            ],
            "image/png": "[encoded data removed]"
          },
          "metadata": {
            "needs_background": "light"
          }
        }
      ],
      "source": [
        "#イメージを実際に視覚化してみる\n",
        "from matplotlib import pyplot as plt\n",
        "plt.imshow(train_X[0],cmap='Greys')\n",
        "plt.show()"
      ]
    },
    {
      "cell_type": "code",
      "execution_count": 12,
      "metadata": {
        "scrolled": true,
        "id": "enlaIOA1vTy9",
        "colab": {
          "base_uri": "https://localhost:8080/"
        },
        "outputId": "c42788cb-8574-4ec1-9bb8-8632b2f250da"
      },
      "outputs": [
        {
          "output_type": "stream",
          "name": "stdout",
          "text": [
            "Model: \"sequential_1\"\n",
            "_________________________________________________________________\n",
            " Layer (type)                Output Shape              Param #   \n",
            "=================================================================\n",
            " flatten (Flatten)           (None, 784)               0         \n",
            "                                                                 \n",
            " dense_2 (Dense)             (None, 10)                7850      \n",
            "                                                                 \n",
            "=================================================================\n",
            "Total params: 7,850\n",
            "Trainable params: 7,850\n",
            "Non-trainable params: 0\n",
            "_________________________________________________________________\n",
            "Epoch 1/20\n",
            "1407/1407 [==============================] - 6s 3ms/step - loss: 0.8840 - accuracy: 0.7870 - val_loss: 0.5555 - val_accuracy: 0.8653\n",
            "Epoch 2/20\n",
            "1407/1407 [==============================] - 4s 3ms/step - loss: 0.4921 - accuracy: 0.8744 - val_loss: 0.4547 - val_accuracy: 0.8817\n",
            "Epoch 3/20\n",
            "1407/1407 [==============================] - 4s 3ms/step - loss: 0.4286 - accuracy: 0.8865 - val_loss: 0.4124 - val_accuracy: 0.8908\n",
            "Epoch 4/20\n",
            "1407/1407 [==============================] - 4s 3ms/step - loss: 0.3976 - accuracy: 0.8924 - val_loss: 0.3889 - val_accuracy: 0.8959\n",
            "Epoch 5/20\n",
            "1407/1407 [==============================] - 4s 3ms/step - loss: 0.3781 - accuracy: 0.8968 - val_loss: 0.3728 - val_accuracy: 0.8985\n",
            "Epoch 6/20\n",
            "1407/1407 [==============================] - 4s 3ms/step - loss: 0.3644 - accuracy: 0.8994 - val_loss: 0.3614 - val_accuracy: 0.9005\n",
            "Epoch 7/20\n",
            "1407/1407 [==============================] - 4s 3ms/step - loss: 0.3540 - accuracy: 0.9018 - val_loss: 0.3526 - val_accuracy: 0.9036\n",
            "Epoch 8/20\n",
            "1407/1407 [==============================] - 4s 3ms/step - loss: 0.3458 - accuracy: 0.9042 - val_loss: 0.3455 - val_accuracy: 0.9049\n",
            "Epoch 9/20\n",
            "1407/1407 [==============================] - 4s 3ms/step - loss: 0.3390 - accuracy: 0.9054 - val_loss: 0.3396 - val_accuracy: 0.9069\n",
            "Epoch 10/20\n",
            "1407/1407 [==============================] - 4s 3ms/step - loss: 0.3334 - accuracy: 0.9064 - val_loss: 0.3346 - val_accuracy: 0.9073\n",
            "Epoch 11/20\n",
            "1407/1407 [==============================] - 4s 3ms/step - loss: 0.3285 - accuracy: 0.9081 - val_loss: 0.3310 - val_accuracy: 0.9086\n",
            "Epoch 12/20\n",
            "1407/1407 [==============================] - 4s 3ms/step - loss: 0.3244 - accuracy: 0.9091 - val_loss: 0.3271 - val_accuracy: 0.9091\n",
            "Epoch 13/20\n",
            "1407/1407 [==============================] - 4s 3ms/step - loss: 0.3206 - accuracy: 0.9105 - val_loss: 0.3239 - val_accuracy: 0.9112\n",
            "Epoch 14/20\n",
            "1407/1407 [==============================] - 4s 3ms/step - loss: 0.3172 - accuracy: 0.9111 - val_loss: 0.3218 - val_accuracy: 0.9098\n",
            "Epoch 15/20\n",
            "1407/1407 [==============================] - 4s 3ms/step - loss: 0.3143 - accuracy: 0.9120 - val_loss: 0.3191 - val_accuracy: 0.9113\n",
            "Epoch 16/20\n",
            "1407/1407 [==============================] - 4s 3ms/step - loss: 0.3117 - accuracy: 0.9130 - val_loss: 0.3162 - val_accuracy: 0.9130\n",
            "Epoch 17/20\n",
            "1407/1407 [==============================] - 4s 3ms/step - loss: 0.3092 - accuracy: 0.9134 - val_loss: 0.3143 - val_accuracy: 0.9134\n",
            "Epoch 18/20\n",
            "1407/1407 [==============================] - 4s 3ms/step - loss: 0.3070 - accuracy: 0.9143 - val_loss: 0.3124 - val_accuracy: 0.9135\n",
            "Epoch 19/20\n",
            "1407/1407 [==============================] - 4s 3ms/step - loss: 0.3049 - accuracy: 0.9150 - val_loss: 0.3107 - val_accuracy: 0.9137\n",
            "Epoch 20/20\n",
            "1407/1407 [==============================] - 5s 3ms/step - loss: 0.3029 - accuracy: 0.9154 - val_loss: 0.3093 - val_accuracy: 0.9144\n"
          ]
        }
      ],
      "source": [
        "import tensorflow as tf \n",
        "from tensorflow import keras\n",
        "from sklearn.preprocessing import StandardScaler\n",
        "\n",
        "#training と validationに分ける\n",
        "train_X, valid_X, train_Y, valid_Y = train_test_split(train_X, train_Y)\n",
        "\n",
        "#最適化のアルゴリズムを早くするために、変数をスケーリングします。\n",
        "train_X = train_X / 255.0\n",
        "valid_X = valid_X / 255.0\n",
        "test_X = test_X / 255.0\n",
        "\n",
        "keras_clf = keras.models.Sequential()\n",
        "\n",
        "#input layerを作る。もともとのinputのデータが2-Dなので、1Dにします。\n",
        "keras_clf.add(keras.layers.Flatten(input_shape = [28, 28]))\n",
        "\n",
        "#output layer を作る.10個のクラスがあるので、10個のニューロンが必要。\n",
        "keras_clf.add(keras.layers.Dense(10, activation = 'softmax'))\n",
        "\n",
        "keras_clf.summary()\n",
        "keras_clf.compile(loss = \"sparse_categorical_crossentropy\", optimizer = \"sgd\", metrics = [\"accuracy\"])\n",
        "history = keras_clf.fit(train_X, train_Y, epochs = 20, validation_data = (valid_X, valid_Y))"
      ]
    },
    {
      "cell_type": "markdown",
      "source": [
        " 損失関数とaccuracyの値をエポックごとにプロットする。ValidationとTraningのデータセットのそれぞれに、その二つの値が計算されている。"
      ],
      "metadata": {
        "id": "OFAHqKmTnFlp"
      }
    },
    {
      "cell_type": "code",
      "execution_count": 13,
      "metadata": {
        "id": "bPTb-xO0vTy-",
        "colab": {
          "base_uri": "https://localhost:8080/",
          "height": 334
        },
        "outputId": "8a658076-650c-4585-f572-4925ae0bcf28"
      },
      "outputs": [
        {
          "output_type": "display_data",
          "data": {
            "text/plain": [
              "<Figure size 576x360 with 1 Axes>"
            ],
            "image/png": "[encoded data removed]"
          },
          "metadata": {
            "needs_background": "light"
          }
        }
      ],
      "source": [
        "pd.DataFrame(history.history).plot(figsize=(8,5))\n",
        "plt.grid(True)\n",
        "plt.gca()\n",
        "plt.xlabel(\"# of Epocs\")\n",
        "plt.show()"
      ]
    },
    {
      "cell_type": "markdown",
      "metadata": {
        "id": "7AMbWYBavTy-"
      },
      "source": [
        "### Test データを使って予測してみる"
      ]
    },
    {
      "cell_type": "code",
      "execution_count": 14,
      "metadata": {
        "id": "sRT4lmozvTy-",
        "colab": {
          "base_uri": "https://localhost:8080/"
        },
        "outputId": "de1e7a3c-c1a5-47a7-e926-b108417251d1"
      },
      "outputs": [
        {
          "output_type": "stream",
          "name": "stdout",
          "text": [
            "Accuracy: 0.9168\n"
          ]
        }
      ],
      "source": [
        "#accuracyを計算\n",
        "from sklearn.metrics import accuracy_score\n",
        "print(\"Accuracy: \" +str(accuracy_score(test_Y,keras_clf.predict(test_X).argmax(axis=-1))))"
      ]
    },
    {
      "cell_type": "markdown",
      "source": [
        "ニューラルネットの学習の視覚化"
      ],
      "metadata": {
        "id": "tQD_UdQ02IB-"
      }
    },
    {
      "cell_type": "markdown",
      "source": [
        "この数字判別の問題だと、アウトプットノードが１０個あります。それぞれのノードが７８４個のインプットノードとエッジで結ばれていて、そのエッジに重みがつけられています。つまり、一つのクラスに７８４個の重みがあります。\n",
        "\n",
        "それでは、ここでいう重みの最適化は何を指すのでしょうか？簡単にいうと、あるラベルがついたインプットが来た時、そのラベルを判別するアウトプットノードが他のノードに比べて大きな値を出力できるような重みを計算するのが最適化にあたります。\n",
        "\n",
        "この数字判別の例だと、仮に１を表すインプットが与えられた時、１を判別するアウトプットノードが一番大きい値を出力するような重みを計算しなければなりません。もう少し詳しくいうと、１という数字のイメージに相関があるピクセルに高い重みを与えればいいのです。そうすれば、インプットと重みのドット積も大きな値を出します。\n",
        "\n",
        "従って、重みを視覚化すると数字がぼんやりと見えます。下の図は数字の３を判別するアウトプットノードと全てのインプットのエッジの間の重みを視覚化したものです。 赤いとこほど、大きな重みを持っています。\n",
        "\n",
        "ニューラルネットワークでの学習は重みを最適化することです。あるインプットに紐づいている重みが少ないということは、それほど重要ではないということです。下の図は、そういった意味ではニューラルネットワークが重要だと学習したピクセルの位置を示していると言えます。\n",
        "\n"
      ],
      "metadata": {
        "id": "Q_XyJliK3ss1"
      }
    },
    {
      "cell_type": "code",
      "execution_count": 15,
      "metadata": {
        "id": "RvhoDv9dvTy-",
        "colab": {
          "base_uri": "https://localhost:8080/",
          "height": 282
        },
        "outputId": "ca90ffa3-f8e5-4810-b90c-3bbbdcb95c7e"
      },
      "outputs": [
        {
          "output_type": "execute_result",
          "data": {
            "text/plain": [
              "<matplotlib.image.AxesImage at 0x7f96d42ffe90>"
            ]
          },
          "metadata": {},
          "execution_count": 15
        },
        {
          "output_type": "display_data",
          "data": {
            "text/plain": [
              "<Figure size 432x288 with 1 Axes>"
            ],
            "image/png": "[encoded data removed]"
          },
          "metadata": {
            "needs_background": "light"
          }
        }
      ],
      "source": [
        "#３のアウトプットノードに関連する重みを全部について、２８＊２８の2-Dに変換\n",
        "plt.imshow(np.reshape(keras_clf.get_weights()[0][:,3],(28,28)),cmap=\"seismic\")"
      ]
    }
  ],
  "metadata": {
    "kernelspec": {
      "display_name": "Python 3",
      "language": "python",
      "name": "python3"
    },
    "language_info": {
      "codemirror_mode": {
        "name": "ipython",
        "version": 3
      },
      "file_extension": ".py",
      "mimetype": "text/x-python",
      "name": "python",
      "nbconvert_exporter": "python",
      "pygments_lexer": "ipython3",
      "version": "3.8.5"
    },
    "colab": {
      "name": "Deep_learning_material_tempate.ipynb",
      "provenance": [],
      "collapsed_sections": [
        "JDFBVx0PvTy2",
        "NUDPWu9CvTy5",
        "AQI7-M9KvTy6",
        "xEC5-Px4vTy7",
        "KFaUB_E7vTy8",
        "7hXlz7iBvTy9"
      ],
      "include_colab_link": true
    },
    "accelerator": "GPU",
    "gpuClass": "standard"
  },
  "nbformat": 4,
  "nbformat_minor": 0
}